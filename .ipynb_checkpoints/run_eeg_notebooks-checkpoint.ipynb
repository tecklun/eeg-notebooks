{
 "cells": [
  {
   "cell_type": "markdown",
   "metadata": {},
   "source": [
    "# Running psychopy"
   ]
  },
  {
   "cell_type": "code",
   "execution_count": null,
   "metadata": {},
   "outputs": [],
   "source": [
    "from psychopy import visual, core"
   ]
  },
  {
   "cell_type": "code",
   "execution_count": null,
   "metadata": {},
   "outputs": [],
   "source": [
    "win = visual.Window()\n",
    "msg = visual.TextStim(win, text=\"Hello All\")\n",
    "msg.draw()\n",
    "win.flip()\n",
    "core.wait(1)\n",
    "win.close()"
   ]
  },
  {
   "cell_type": "code",
   "execution_count": null,
   "metadata": {},
   "outputs": [],
   "source": [
    "from psychopy import visual, core\n",
    "win = visual.Window([400,400])\n",
    "message = visual.TextStim(win, text='hello')\n",
    "message.autoDraw = True # Automatically draw every frame\n",
    "win.flip()\n",
    "core.wait(2.0)\n",
    "message.text = 'world' # Change properties of existing stim\n",
    "win.flip()\n",
    "core.wait(2.0)\n",
    "win.close()"
   ]
  },
  {
   "cell_type": "code",
   "execution_count": null,
   "metadata": {},
   "outputs": [],
   "source": [
    "from psychopy import visual, core\n",
    "# Setup stimulus\n",
    "win = visual.Window([400, 400])\n",
    "gabor = visual.GratingStim(win, tex='sin', mask='gauss', sf=5,\n",
    "name='gabor', autoLog=False)\n",
    "fixation = visual.GratingStim(win, tex=None, mask='gauss', sf=0, size=0.02,\n",
    "name='fixation', autoLog=False)\n",
    "# Let's draw a stimulus for 200 frames, drifting for frames 50:100\n",
    "for frameN in range(3000): # For exactly 200 frames\n",
    "    if 10 <= frameN < 1500: # Present fixation for a subset of frames\n",
    "        fixation.draw()\n",
    "    if 50 <= frameN < 3000: # Present stim for a different subset\n",
    "        gabor.phase += 0.1 # Increment by 10th of cycle\n",
    "        gabor.draw()\n",
    "        win.flip()\n",
    "win.close()"
   ]
  },
  {
   "cell_type": "code",
   "execution_count": null,
   "metadata": {},
   "outputs": [],
   "source": [
    "from psychopy import event\n",
    "event.globalKeys.clear()"
   ]
  },
  {
   "cell_type": "code",
   "execution_count": null,
   "metadata": {},
   "outputs": [],
   "source": [
    "import timeit\n",
    "tic=timeit.default_timer()\n",
    "\n",
    "mywin = visual.Window([800,600], monitor=\"testMonitor\", units=\"deg\")\n",
    "grating = visual.GratingStim(win=mywin, mask=\"circle\", size=3, pos=[-4,0], sf=3)\n",
    "fixation = visual.GratingStim(win=mywin, size=0.5, pos=[0,0], sf=0, rgb=-1)\n",
    "grating.draw()\n",
    "fixation.draw()\n",
    "mywin.update()\n",
    "for frameN in range(1440):\n",
    "    grating.setPhase(0.05, '+') # advance phase by 0.05 of a cycle\n",
    "    fixation.setPhase(0.05, '+')\n",
    "    grating.draw()\n",
    "    fixation.draw()\n",
    "    mywin.update()\n",
    "    \n",
    "toc=timeit.default_timer()\n",
    "mywin.close()\n",
    "\n",
    "toc - tic #elapsed time in seconds"
   ]
  },
  {
   "cell_type": "code",
   "execution_count": null,
   "metadata": {},
   "outputs": [],
   "source": [
    "144"
   ]
  },
  {
   "cell_type": "code",
   "execution_count": null,
   "metadata": {},
   "outputs": [],
   "source": [
    "mywin = visual.Window([800,600], monitor=\"testMonitor\", units=\"deg\")"
   ]
  },
  {
   "cell_type": "code",
   "execution_count": null,
   "metadata": {},
   "outputs": [],
   "source": [
    "grating = visual.GratingStim(win=mywin, mask=\"circle\", size=3, pos=[-4,0], sf=3)"
   ]
  },
  {
   "cell_type": "code",
   "execution_count": null,
   "metadata": {},
   "outputs": [],
   "source": [
    "mywin.update()"
   ]
  },
  {
   "cell_type": "code",
   "execution_count": null,
   "metadata": {},
   "outputs": [],
   "source": [
    "mywin.close()"
   ]
  },
  {
   "cell_type": "code",
   "execution_count": null,
   "metadata": {},
   "outputs": [],
   "source": []
  },
  {
   "cell_type": "code",
   "execution_count": null,
   "metadata": {},
   "outputs": [],
   "source": []
  },
  {
   "cell_type": "code",
   "execution_count": null,
   "metadata": {},
   "outputs": [],
   "source": []
  },
  {
   "cell_type": "code",
   "execution_count": null,
   "metadata": {},
   "outputs": [],
   "source": []
  },
  {
   "cell_type": "code",
   "execution_count": null,
   "metadata": {},
   "outputs": [],
   "source": [
    "%matplotlib inline"
   ]
  },
  {
   "cell_type": "markdown",
   "metadata": {},
   "source": [
    "# SSVEP run experiment\n",
    "\n",
    "This example demonstrates the initiation of an EEG stream with eeg-notebooks, and how to run \n",
    "an experiment. \n",
    "Codes are all extracted from https://github.com/NeuroTechX/eeg-notebooks, which makes use of psychopy"
   ]
  },
  {
   "cell_type": "code",
   "execution_count": null,
   "metadata": {},
   "outputs": [],
   "source": [
    "# Code to directly run NeuroTechX/eeg-notebooks\n",
    "from eegnb.experiments.visual_ssvep import ssvep\n",
    "ssvep.present()"
   ]
  },
  {
   "cell_type": "markdown",
   "metadata": {},
   "source": [
    "## Ownself SSVEP\n",
    "Below are codes to generate the SSVEP stimulus, using the function calls as from NeuroTechX/eeg-notebooks"
   ]
  },
  {
   "cell_type": "code",
   "execution_count": 16,
   "metadata": {},
   "outputs": [],
   "source": [
    "from psychopy import visual, core\n",
    "\n",
    "# Initialize the SSVEP parameters\n",
    "DURATION_s = 3       # Duration in seconds\n",
    "SSVEP_FREQ_Hz = 1    # SSVEP Frequency in Hz. Set to factor of 144Hz\n",
    "FRAME_RATE_Hz = 144   # Frame rate of PC, is 144Hz for my own laptop\n",
    "\n",
    "# Initialize the SSVEP Visual parameters\n",
    "SPATIAL_FREQ = 0.2     # How thick are the vertical lines. Smaller is thick lines, big value is very thin lines\n",
    "PHASE = 0.1            # Phase difference between the 2 image. Takes value 0 to 1\n",
    "\n",
    "FIRST_SIZE = 8          # Size of first image\n",
    "FIRST_X = -15           # X position of first image, value from (-20, 20)\n",
    "FIRST_Y = 8             # Y position of first image, value from (-10, 10)\n",
    "\n",
    "SECOND_SIZE = 20         # Size of second image\n",
    "SECOND_X = 15           # X position of second image, value from (-20, 20)\n",
    "SECOND_Y = -10             # Y position of second image, value from (-10, 10)"
   ]
  },
  {
   "cell_type": "code",
   "execution_count": 17,
   "metadata": {},
   "outputs": [],
   "source": [
    "def init_flicker_stim(frame_rate, cycle, soa):\n",
    "        \"\"\"Initialize flickering stimulus.\n",
    "        Get parameters for a flickering stimulus, based on the screen refresh\n",
    "        rate and the desired stimulation cycle.\n",
    "        Args:\n",
    "            frame_rate (float): screen frame rate, in Hz\n",
    "            cycle (tuple or int): if tuple (on, off), represents the number of\n",
    "                'on' periods and 'off' periods in one flickering cycle. This\n",
    "                supposes a \"single graphic\" stimulus, where the displayed object\n",
    "                appears and disappears in the background.\n",
    "                If int, represents the number of total periods in one cycle.\n",
    "                This supposes a \"pattern reversal\" stimulus, where the\n",
    "                displayed object appears and is replaced by its opposite.\n",
    "            soa (float): stimulus duration, in s\n",
    "        Returns:\n",
    "            (dict): dictionary with keys\n",
    "                'cycle' -> tuple of (on, off) periods in a cycle\n",
    "                'freq' -> stimulus frequency\n",
    "                'n_cycles' -> number of cycles in one stimulus trial\n",
    "        \"\"\"\n",
    "        if isinstance(cycle, tuple):\n",
    "            stim_freq = frame_rate / sum(cycle)\n",
    "            n_cycles = int(soa * stim_freq)\n",
    "        else:\n",
    "            stim_freq = frame_rate / cycle\n",
    "            cycle = (cycle, cycle)\n",
    "            n_cycles = int(soa * stim_freq) / 2\n",
    "\n",
    "        return {\"cycle\": cycle, \"freq\": stim_freq, \"n_cycles\": n_cycles}\n"
   ]
  },
  {
   "cell_type": "code",
   "execution_count": 18,
   "metadata": {},
   "outputs": [
    {
     "name": "stdout",
     "output_type": "stream",
     "text": [
      "Flickering frequencies (Hz): [1.0]\n",
      "\n"
     ]
    }
   ],
   "source": [
    "# Generate stimulus pattern and confirm with printout the SSVEP stimulus frequency\n",
    "stim_patterns = [init_flicker_stim(FRAME_RATE_Hz, FRAME_RATE_Hz//SSVEP_FREQ_Hz, DURATION_s),]\n",
    "print(\"Flickering frequencies (Hz): {}\\n\".format([stim_patterns[0][\"freq\"]]))"
   ]
  },
  {
   "cell_type": "code",
   "execution_count": 29,
   "metadata": {},
   "outputs": [
    {
     "name": "stdout",
     "output_type": "stream",
     "text": [
      "Elapsed time is 2.4177081000007092s\n"
     ]
    }
   ],
   "source": [
    "import timeit     # To check on elapsed time\n",
    "tic=timeit.default_timer()\n",
    "\n",
    "# Set up graphics\n",
    "mywin = visual.Window([1536, 864], monitor=\"testMonitor\", units=\"deg\", fullscr=True)\n",
    "\n",
    "# First image\n",
    "grating = visual.GratingStim(win=mywin, mask=\"circle\", size=FIRST_SIZE, sf=SPATIAL_FREQ, pos = (FIRST_X, FIRST_Y))\n",
    "# Second image\n",
    "grating_neg = visual.GratingStim(win=mywin, mask=\"circle\", size=SECOND_SIZE, sf=SPATIAL_FREQ, phase=PHASE, pos = (SECOND_X, SECOND_Y))\n",
    "\n",
    "\n",
    "# Present flickering stim\n",
    "ind = 0      # ind is a index used if there is more than 1 SSVEP stimulus pattern\n",
    "for _ in range(int(stim_patterns[ind][\"n_cycles\"])):\n",
    "    grating.setAutoDraw(True)\n",
    "    for _ in range(int(stim_patterns[ind][\"cycle\"][0])):\n",
    "        mywin.flip()\n",
    "    grating.setAutoDraw(False)\n",
    "    grating_neg.setAutoDraw(True)\n",
    "    for _ in range(stim_patterns[ind][\"cycle\"][1]):\n",
    "        mywin.flip()\n",
    "    grating_neg.setAutoDraw(False)\n",
    "\n",
    "    \n",
    "# Close the SSVEP Stimulus window    \n",
    "mywin.close()    \n",
    "\n",
    "\n",
    "# Print elapsed time    \n",
    "toc=timeit.default_timer()\n",
    "print(\"Elapsed time is {}s\".format(toc - tic))"
   ]
  },
  {
   "cell_type": "code",
   "execution_count": 11,
   "metadata": {},
   "outputs": [],
   "source": [
    "mywin.close()"
   ]
  },
  {
   "cell_type": "code",
   "execution_count": null,
   "metadata": {},
   "outputs": [],
   "source": []
  },
  {
   "cell_type": "code",
   "execution_count": null,
   "metadata": {},
   "outputs": [],
   "source": []
  },
  {
   "cell_type": "code",
   "execution_count": null,
   "metadata": {},
   "outputs": [],
   "source": [
    "import os\n",
    "from eegnb import generate_save_fn\n",
    "from eegnb.devices.eeg import EEG\n",
    "from eegnb.experiments.visual_ssvep import ssvep\n",
    "\n",
    "# Define some variables\n",
    "board_name = 'muse'\n",
    "experiment = 'visual_ssvep'\n",
    "subject = 'test'\n",
    "record_duration=120"
   ]
  },
  {
   "cell_type": "markdown",
   "metadata": {},
   "source": [
    "## Initiate EEG device\n",
    "\n",
    "Start EEG device"
   ]
  },
  {
   "cell_type": "code",
   "execution_count": null,
   "metadata": {},
   "outputs": [],
   "source": [
    "eeg_device = EEG(device=board_name)\n",
    "\n",
    "# Create save file name\n",
    "save_fn = generate_save_fn(board_name, experiment, subject)\n",
    "print(save_fn)"
   ]
  },
  {
   "cell_type": "markdown",
   "metadata": {},
   "source": [
    "# Run Experiment"
   ]
  },
  {
   "cell_type": "code",
   "execution_count": null,
   "metadata": {},
   "outputs": [],
   "source": [
    "ssvep.present(duration=record_duration, eeg=eeg_device, save_fn=save_fn)"
   ]
  },
  {
   "cell_type": "code",
   "execution_count": null,
   "metadata": {},
   "outputs": [],
   "source": []
  }
 ],
 "metadata": {
  "kernelspec": {
   "display_name": "Python 3",
   "language": "python",
   "name": "python3"
  },
  "language_info": {
   "codemirror_mode": {
    "name": "ipython",
    "version": 3
   },
   "file_extension": ".py",
   "mimetype": "text/x-python",
   "name": "python",
   "nbconvert_exporter": "python",
   "pygments_lexer": "ipython3",
   "version": "3.8.3"
  }
 },
 "nbformat": 4,
 "nbformat_minor": 4
}
